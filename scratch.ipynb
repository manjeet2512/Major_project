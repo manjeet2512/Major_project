{
 "cells": [
  {
   "cell_type": "markdown",
   "metadata": {},
   "source": [
    "Importing Modules and Libraries for data handling"
   ]
  },
  {
   "cell_type": "code",
   "execution_count": 1,
   "metadata": {},
   "outputs": [],
   "source": [
    "import numpy as np\n",
    "import pandas as pd\n",
    "import matplotlib.pyplot as plt\n",
    "import seaborn as sns"
   ]
  },
  {
   "cell_type": "markdown",
   "metadata": {},
   "source": [
    "Reading CSV files"
   ]
  },
  {
   "cell_type": "code",
   "execution_count": 2,
   "metadata": {},
   "outputs": [],
   "source": [
    "members = pd.read_csv(\"members.csv\")\n",
    "songs = pd.read_csv(\"songs.csv\")\n",
    "song_extrainfo = pd.read_csv(\"song_extra_info.csv\")\n",
    "data = pd.read_csv(\"train.csv\")"
   ]
  },
  {
   "cell_type": "markdown",
   "metadata": {},
   "source": [
    "# Preprocessing"
   ]
  },
  {
   "cell_type": "code",
   "execution_count": 3,
   "metadata": {},
   "outputs": [
    {
     "name": "stdout",
     "output_type": "stream",
     "text": [
      "(7377418, 6) (34403, 7) (2296320, 7) (2295971, 3)\n"
     ]
    }
   ],
   "source": [
    "print(data.shape, members.shape, songs.shape, song_extrainfo.shape)"
   ]
  },
  {
   "cell_type": "markdown",
   "metadata": {},
   "source": [
    "Merging dataframes into one"
   ]
  },
  {
   "cell_type": "code",
   "execution_count": 3,
   "metadata": {},
   "outputs": [
    {
     "data": {
      "text/plain": [
       "(7377418, 20)"
      ]
     },
     "execution_count": 3,
     "metadata": {},
     "output_type": "execute_result"
    }
   ],
   "source": [
    "songs_info = pd.merge(songs,song_extrainfo)\n",
    "all_data = pd.merge(data, songs_info, on='song_id', how='left')\n",
    "all_data = pd.merge(all_data, members, on='msno', how='left')\n",
    "all_data.shape"
   ]
  },
  {
   "cell_type": "markdown",
   "metadata": {},
   "source": [
    "Heatmap representation"
   ]
  },
  {
   "cell_type": "code",
   "execution_count": 5,
   "metadata": {},
   "outputs": [
    {
     "data": {
      "text/plain": [
       "<AxesSubplot:>"
      ]
     },
     "execution_count": 5,
     "metadata": {},
     "output_type": "execute_result"
    },
    {
     "data": {
      "image/png": "[encoded data removed]",
      "text/plain": [
       "<Figure size 432x288 with 1 Axes>"
      ]
     },
     "metadata": {
      "needs_background": "light"
     },
     "output_type": "display_data"
    }
   ],
   "source": [
    "sns.heatmap(all_data.isna(), cbar=False)"
   ]
  },
  {
   "cell_type": "markdown",
   "metadata": {},
   "source": [
    "Handling missing values "
   ]
  },
  {
   "cell_type": "code",
   "execution_count": 4,
   "metadata": {},
   "outputs": [
    {
     "data": {
      "text/html": [
       "<div>\n",
       "<style scoped>\n",
       "    .dataframe tbody tr th:only-of-type {\n",
       "        vertical-align: middle;\n",
       "    }\n",
       "\n",
       "    .dataframe tbody tr th {\n",
       "        vertical-align: top;\n",
       "    }\n",
       "\n",
       "    .dataframe thead th {\n",
       "        text-align: right;\n",
       "    }\n",
       "</style>\n",
       "<table border=\"1\" class=\"dataframe\">\n",
       "  <thead>\n",
       "    <tr style=\"text-align: right;\">\n",
       "      <th></th>\n",
       "      <th>Total</th>\n",
       "      <th>Percent (in %)</th>\n",
       "    </tr>\n",
       "  </thead>\n",
       "  <tbody>\n",
       "    <tr>\n",
       "      <th>lyricist</th>\n",
       "      <td>3179542</td>\n",
       "      <td>43.098303</td>\n",
       "    </tr>\n",
       "    <tr>\n",
       "      <th>gender</th>\n",
       "      <td>2961479</td>\n",
       "      <td>40.142486</td>\n",
       "    </tr>\n",
       "    <tr>\n",
       "      <th>composer</th>\n",
       "      <td>1676694</td>\n",
       "      <td>22.727382</td>\n",
       "    </tr>\n",
       "    <tr>\n",
       "      <th>isrc</th>\n",
       "      <td>577963</td>\n",
       "      <td>7.834218</td>\n",
       "    </tr>\n",
       "    <tr>\n",
       "      <th>source_screen_name</th>\n",
       "      <td>414804</td>\n",
       "      <td>5.622618</td>\n",
       "    </tr>\n",
       "    <tr>\n",
       "      <th>genre_ids</th>\n",
       "      <td>119906</td>\n",
       "      <td>1.625311</td>\n",
       "    </tr>\n",
       "    <tr>\n",
       "      <th>source_system_tab</th>\n",
       "      <td>24849</td>\n",
       "      <td>0.336825</td>\n",
       "    </tr>\n",
       "    <tr>\n",
       "      <th>source_type</th>\n",
       "      <td>21539</td>\n",
       "      <td>0.291959</td>\n",
       "    </tr>\n",
       "    <tr>\n",
       "      <th>language</th>\n",
       "      <td>1605</td>\n",
       "      <td>0.021756</td>\n",
       "    </tr>\n",
       "    <tr>\n",
       "      <th>name</th>\n",
       "      <td>1571</td>\n",
       "      <td>0.021295</td>\n",
       "    </tr>\n",
       "    <tr>\n",
       "      <th>song_length</th>\n",
       "      <td>1569</td>\n",
       "      <td>0.021268</td>\n",
       "    </tr>\n",
       "    <tr>\n",
       "      <th>artist_name</th>\n",
       "      <td>1569</td>\n",
       "      <td>0.021268</td>\n",
       "    </tr>\n",
       "    <tr>\n",
       "      <th>bd</th>\n",
       "      <td>0</td>\n",
       "      <td>0.000000</td>\n",
       "    </tr>\n",
       "    <tr>\n",
       "      <th>registration_init_time</th>\n",
       "      <td>0</td>\n",
       "      <td>0.000000</td>\n",
       "    </tr>\n",
       "    <tr>\n",
       "      <th>registered_via</th>\n",
       "      <td>0</td>\n",
       "      <td>0.000000</td>\n",
       "    </tr>\n",
       "    <tr>\n",
       "      <th>msno</th>\n",
       "      <td>0</td>\n",
       "      <td>0.000000</td>\n",
       "    </tr>\n",
       "    <tr>\n",
       "      <th>city</th>\n",
       "      <td>0</td>\n",
       "      <td>0.000000</td>\n",
       "    </tr>\n",
       "    <tr>\n",
       "      <th>song_id</th>\n",
       "      <td>0</td>\n",
       "      <td>0.000000</td>\n",
       "    </tr>\n",
       "    <tr>\n",
       "      <th>target</th>\n",
       "      <td>0</td>\n",
       "      <td>0.000000</td>\n",
       "    </tr>\n",
       "    <tr>\n",
       "      <th>expiration_date</th>\n",
       "      <td>0</td>\n",
       "      <td>0.000000</td>\n",
       "    </tr>\n",
       "  </tbody>\n",
       "</table>\n",
       "</div>"
      ],
      "text/plain": [
       "                          Total  Percent (in %)\n",
       "lyricist                3179542       43.098303\n",
       "gender                  2961479       40.142486\n",
       "composer                1676694       22.727382\n",
       "isrc                     577963        7.834218\n",
       "source_screen_name       414804        5.622618\n",
       "genre_ids                119906        1.625311\n",
       "source_system_tab         24849        0.336825\n",
       "source_type               21539        0.291959\n",
       "language                   1605        0.021756\n",
       "name                       1571        0.021295\n",
       "song_length                1569        0.021268\n",
       "artist_name                1569        0.021268\n",
       "bd                            0        0.000000\n",
       "registration_init_time        0        0.000000\n",
       "registered_via                0        0.000000\n",
       "msno                          0        0.000000\n",
       "city                          0        0.000000\n",
       "song_id                       0        0.000000\n",
       "target                        0        0.000000\n",
       "expiration_date               0        0.000000"
      ]
     },
     "execution_count": 4,
     "metadata": {},
     "output_type": "execute_result"
    }
   ],
   "source": [
    "# missing data percent\n",
    "total = all_data.isna().sum().sort_values(ascending=False)\n",
    "percent = 100 * (all_data.isna().sum()/all_data.isna().count()).sort_values(ascending=False)\n",
    "missing_data = pd.concat([total, percent], axis=1, keys=['Total', 'Percent (in %)'])\n",
    "missing_data.head(20)"
   ]
  },
  {
   "cell_type": "code",
   "execution_count": 5,
   "metadata": {},
   "outputs": [
    {
     "data": {
      "text/plain": [
       "msno                           0\n",
       "song_id                        0\n",
       "source_system_tab              0\n",
       "source_screen_name             0\n",
       "source_type                    0\n",
       "target                         0\n",
       "song_length                 1569\n",
       "genre_ids                 119906\n",
       "artist_name                 1569\n",
       "language                       0\n",
       "name                        1571\n",
       "city                           0\n",
       "bd                             0\n",
       "gender                         0\n",
       "registered_via                 0\n",
       "registration_init_time         0\n",
       "expiration_date                0\n",
       "dtype: int64"
      ]
     },
     "execution_count": 5,
     "metadata": {},
     "output_type": "execute_result"
    }
   ],
   "source": [
    "all_data.source_system_tab.fillna('Others', inplace=True)\n",
    "all_data.source_screen_name.fillna('Others', inplace=True)\n",
    "all_data.source_type.fillna('Others', inplace=True)\n",
    "all_data.gender.fillna('Unknown', inplace=True)\n",
    "all_data.language.fillna(0.0, inplace=True)\n",
    "\n",
    "all_data.drop(columns='composer', inplace=True)\n",
    "all_data.drop(columns='lyricist', inplace=True)\n",
    "all_data.drop(columns='isrc', inplace=True)\n",
    "\n",
    "all_data.isna().sum()"
   ]
  },
  {
   "cell_type": "code",
   "execution_count": 6,
   "metadata": {},
   "outputs": [
    {
     "data": {
      "text/plain": [
       "msno                      0\n",
       "song_id                   0\n",
       "source_system_tab         0\n",
       "source_screen_name        0\n",
       "source_type               0\n",
       "target                    0\n",
       "song_length               0\n",
       "genre_ids                 0\n",
       "artist_name               0\n",
       "language                  0\n",
       "name                      0\n",
       "city                      0\n",
       "bd                        0\n",
       "gender                    0\n",
       "registered_via            0\n",
       "registration_init_time    0\n",
       "expiration_date           0\n",
       "dtype: int64"
      ]
     },
     "execution_count": 6,
     "metadata": {},
     "output_type": "execute_result"
    }
   ],
   "source": [
    "all_data.dropna(inplace=True)\n",
    "all_data.isna().sum()"
   ]
  },
  {
   "cell_type": "code",
   "execution_count": 7,
   "metadata": {},
   "outputs": [
    {
     "data": {
      "text/plain": [
       "(7257510, 17)"
      ]
     },
     "execution_count": 7,
     "metadata": {},
     "output_type": "execute_result"
    }
   ],
   "source": [
    "all_data.shape"
   ]
  },
  {
   "cell_type": "markdown",
   "metadata": {},
   "source": [
    "# Exploratory Data Analysis (EDA)"
   ]
  },
  {
   "cell_type": "markdown",
   "metadata": {},
   "source": [
    "Creating dates"
   ]
  },
  {
   "cell_type": "code",
   "execution_count": 8,
   "metadata": {},
   "outputs": [
    {
     "data": {
      "text/plain": [
       "(7257510, 23)"
      ]
     },
     "execution_count": 8,
     "metadata": {},
     "output_type": "execute_result"
    }
   ],
   "source": [
    "# registration_init_time\n",
    "all_data.registration_init_time = pd.to_datetime(all_data.registration_init_time, format='%Y%m%d', errors='ignore')\n",
    "all_data['registration_init_time_year'] = all_data['registration_init_time'].dt.year\n",
    "all_data['registration_init_time_month'] = all_data['registration_init_time'].dt.month\n",
    "all_data['registration_init_time_day'] = all_data['registration_init_time'].dt.day\n",
    "\n",
    "# expiration_date\n",
    "all_data.expiration_date = pd.to_datetime(all_data.expiration_date,  format='%Y%m%d', errors='ignore')\n",
    "all_data['expiration_date_year'] = all_data['expiration_date'].dt.year\n",
    "all_data['expiration_date_month'] = all_data['expiration_date'].dt.month\n",
    "all_data['expiration_date_day'] = all_data['expiration_date'].dt.day\n",
    "\n",
    "# Dates to category\n",
    "all_data['registration_init_time'] = all_data['registration_init_time'].astype('category')\n",
    "all_data['expiration_date'] = all_data['expiration_date'].astype('category')\n",
    "all_data.shape"
   ]
  },
  {
   "cell_type": "markdown",
   "metadata": {},
   "source": [
    "##### Distribution of 'Target' variable "
   ]
  },
  {
   "cell_type": "code",
   "execution_count": 14,
   "metadata": {},
   "outputs": [
    {
     "data": {
      "text/plain": [
       "<AxesSubplot:xlabel='target', ylabel='count'>"
      ]
     },
     "execution_count": 14,
     "metadata": {},
     "output_type": "execute_result"
    },
    {
     "data": {
      "image/png": "[encoded data removed]",
      "text/plain": [
       "<Figure size 432x576 with 1 Axes>"
      ]
     },
     "metadata": {
      "needs_background": "light"
     },
     "output_type": "display_data"
    }
   ],
   "source": [
    "plt.figure(figsize = (6, 8)) \n",
    "sns.countplot(x='target', data=all_data)"
   ]
  },
  {
   "cell_type": "markdown",
   "metadata": {},
   "source": [
    "Conclusion : The Target Variable which is binary ('0' and '1') is almost uniformly balanced. Hence models to be trained on the train dataset will work well."
   ]
  },
  {
   "cell_type": "markdown",
   "metadata": {},
   "source": [
    "#####  Gender Plot "
   ]
  },
  {
   "cell_type": "code",
   "execution_count": 15,
   "metadata": {},
   "outputs": [
    {
     "data": {
      "image/png": "[encoded data removed]",
      "text/plain": [
       "<Figure size 648x648 with 1 Axes>"
      ]
     },
     "metadata": {},
     "output_type": "display_data"
    }
   ],
   "source": [
    "ax= plt.figure(figsize = (9, 9)) \n",
    "pp = pd.value_counts(all_data.gender) \n",
    "pp.plot.pie(startangle=90, autopct='%1.1f%%', shadow=False)\n",
    "plt.axis('equal')\n",
    "plt.show()"
   ]
  },
  {
   "cell_type": "markdown",
   "metadata": {},
   "source": [
    "Conclusion : The ratio percentage between male and female audience is almost equivalent. Also almost 40% of the audiences have refused to share their gender, thereafter the missing valus of 'gender' are filled with \"Unknown' variable."
   ]
  },
  {
   "cell_type": "markdown",
   "metadata": {},
   "source": [
    "##### Registration Dates Pattern Over the years (till 2017)"
   ]
  },
  {
   "cell_type": "code",
   "execution_count": 16,
   "metadata": {},
   "outputs": [
    {
     "data": {
      "text/plain": [
       "<AxesSubplot:xlabel='registration_init_time_year', ylabel='count'>"
      ]
     },
     "execution_count": 16,
     "metadata": {},
     "output_type": "execute_result"
    },
    {
     "data": {
      "image/png": "[encoded data removed]",
      "text/plain": [
       "<Figure size 720x432 with 1 Axes>"
      ]
     },
     "metadata": {
      "needs_background": "light"
     },
     "output_type": "display_data"
    }
   ],
   "source": [
    "plt.figure(figsize = (10, 6))\n",
    "sns.countplot(x='registration_init_time_year', data=all_data)"
   ]
  },
  {
   "cell_type": "markdown",
   "metadata": {},
   "source": [
    "Conclusion : The KK-box platform got popularity since 2011 and saw maximum parrticipation in terms of registration in the year 2016. Although the craze dropped in the next year i.e. 2017 itself"
   ]
  },
  {
   "cell_type": "markdown",
   "metadata": {},
   "source": [
    "##### Birth Date (Age) Plot"
   ]
  },
  {
   "cell_type": "code",
   "execution_count": 17,
   "metadata": {},
   "outputs": [
    {
     "data": {
      "text/plain": [
       "<AxesSubplot:xlabel='bd', ylabel='count'>"
      ]
     },
     "execution_count": 17,
     "metadata": {},
     "output_type": "execute_result"
    },
    {
     "data": {
      "image/png": "[encoded data removed]",
      "text/plain": [
       "<Figure size 1224x576 with 1 Axes>"
      ]
     },
     "metadata": {
      "needs_background": "light"
     },
     "output_type": "display_data"
    }
   ],
   "source": [
    "plt.figure(figsize = (17, 8))\n",
    "plt.xticks(rotation=90)\n",
    "sns.countplot(x= all_data.bd)"
   ]
  },
  {
   "cell_type": "markdown",
   "metadata": {},
   "source": [
    "Conclusion : Most of the audiences who shared their age were mostly faulty. The most age figure which was shared was '0' which cant be hold true for an user."
   ]
  },
  {
   "cell_type": "markdown",
   "metadata": {},
   "source": [
    "##### Most Listened Artist (Top 10)"
   ]
  },
  {
   "cell_type": "code",
   "execution_count": 28,
   "metadata": {},
   "outputs": [
    {
     "data": {
      "text/plain": [
       "<AxesSubplot:xlabel='artist_name'>"
      ]
     },
     "execution_count": 28,
     "metadata": {},
     "output_type": "execute_result"
    },
    {
     "name": "stderr",
     "output_type": "stream",
     "text": [
      "C:\\Users\\manje\\AppData\\Roaming\\Python\\Python310\\site-packages\\IPython\\core\\pylabtools.py:151: UserWarning: Glyph 21608 (\\N{CJK UNIFIED IDEOGRAPH-5468}) missing from current font.\n",
      "  fig.canvas.print_figure(bytes_io, **kw)\n",
      "C:\\Users\\manje\\AppData\\Roaming\\Python\\Python310\\site-packages\\IPython\\core\\pylabtools.py:151: UserWarning: Glyph 26480 (\\N{CJK UNIFIED IDEOGRAPH-6770}) missing from current font.\n",
      "  fig.canvas.print_figure(bytes_io, **kw)\n",
      "C:\\Users\\manje\\AppData\\Roaming\\Python\\Python310\\site-packages\\IPython\\core\\pylabtools.py:151: UserWarning: Glyph 20523 (\\N{CJK UNIFIED IDEOGRAPH-502B}) missing from current font.\n",
      "  fig.canvas.print_figure(bytes_io, **kw)\n",
      "C:\\Users\\manje\\AppData\\Roaming\\Python\\Python310\\site-packages\\IPython\\core\\pylabtools.py:151: UserWarning: Glyph 20116 (\\N{CJK UNIFIED IDEOGRAPH-4E94}) missing from current font.\n",
      "  fig.canvas.print_figure(bytes_io, **kw)\n",
      "C:\\Users\\manje\\AppData\\Roaming\\Python\\Python310\\site-packages\\IPython\\core\\pylabtools.py:151: UserWarning: Glyph 26376 (\\N{CJK UNIFIED IDEOGRAPH-6708}) missing from current font.\n",
      "  fig.canvas.print_figure(bytes_io, **kw)\n",
      "C:\\Users\\manje\\AppData\\Roaming\\Python\\Python310\\site-packages\\IPython\\core\\pylabtools.py:151: UserWarning: Glyph 22825 (\\N{CJK UNIFIED IDEOGRAPH-5929}) missing from current font.\n",
      "  fig.canvas.print_figure(bytes_io, **kw)\n",
      "C:\\Users\\manje\\AppData\\Roaming\\Python\\Python310\\site-packages\\IPython\\core\\pylabtools.py:151: UserWarning: Glyph 26519 (\\N{CJK UNIFIED IDEOGRAPH-6797}) missing from current font.\n",
      "  fig.canvas.print_figure(bytes_io, **kw)\n",
      "C:\\Users\\manje\\AppData\\Roaming\\Python\\Python310\\site-packages\\IPython\\core\\pylabtools.py:151: UserWarning: Glyph 20426 (\\N{CJK UNIFIED IDEOGRAPH-4FCA}) missing from current font.\n",
      "  fig.canvas.print_figure(bytes_io, **kw)\n",
      "C:\\Users\\manje\\AppData\\Roaming\\Python\\Python310\\site-packages\\IPython\\core\\pylabtools.py:151: UserWarning: Glyph 20625 (\\N{CJK UNIFIED IDEOGRAPH-5091}) missing from current font.\n",
      "  fig.canvas.print_figure(bytes_io, **kw)\n",
      "C:\\Users\\manje\\AppData\\Roaming\\Python\\Python310\\site-packages\\IPython\\core\\pylabtools.py:151: UserWarning: Glyph 30000 (\\N{CJK UNIFIED IDEOGRAPH-7530}) missing from current font.\n",
      "  fig.canvas.print_figure(bytes_io, **kw)\n",
      "C:\\Users\\manje\\AppData\\Roaming\\Python\\Python310\\site-packages\\IPython\\core\\pylabtools.py:151: UserWarning: Glyph 39333 (\\N{CJK UNIFIED IDEOGRAPH-99A5}) missing from current font.\n",
      "  fig.canvas.print_figure(bytes_io, **kw)\n",
      "C:\\Users\\manje\\AppData\\Roaming\\Python\\Python310\\site-packages\\IPython\\core\\pylabtools.py:151: UserWarning: Glyph 29956 (\\N{CJK UNIFIED IDEOGRAPH-7504}) missing from current font.\n",
      "  fig.canvas.print_figure(bytes_io, **kw)\n",
      "C:\\Users\\manje\\AppData\\Roaming\\Python\\Python310\\site-packages\\IPython\\core\\pylabtools.py:151: UserWarning: Glyph 24373 (\\N{CJK UNIFIED IDEOGRAPH-5F35}) missing from current font.\n",
      "  fig.canvas.print_figure(bytes_io, **kw)\n",
      "C:\\Users\\manje\\AppData\\Roaming\\Python\\Python310\\site-packages\\IPython\\core\\pylabtools.py:151: UserWarning: Glyph 24800 (\\N{CJK UNIFIED IDEOGRAPH-60E0}) missing from current font.\n",
      "  fig.canvas.print_figure(bytes_io, **kw)\n",
      "C:\\Users\\manje\\AppData\\Roaming\\Python\\Python310\\site-packages\\IPython\\core\\pylabtools.py:151: UserWarning: Glyph 22969 (\\N{CJK UNIFIED IDEOGRAPH-59B9}) missing from current font.\n",
      "  fig.canvas.print_figure(bytes_io, **kw)\n",
      "C:\\Users\\manje\\AppData\\Roaming\\Python\\Python310\\site-packages\\IPython\\core\\pylabtools.py:151: UserWarning: Glyph 38515 (\\N{CJK UNIFIED IDEOGRAPH-9673}) missing from current font.\n",
      "  fig.canvas.print_figure(bytes_io, **kw)\n",
      "C:\\Users\\manje\\AppData\\Roaming\\Python\\Python310\\site-packages\\IPython\\core\\pylabtools.py:151: UserWarning: Glyph 22869 (\\N{CJK UNIFIED IDEOGRAPH-5955}) missing from current font.\n",
      "  fig.canvas.print_figure(bytes_io, **kw)\n",
      "C:\\Users\\manje\\AppData\\Roaming\\Python\\Python310\\site-packages\\IPython\\core\\pylabtools.py:151: UserWarning: Glyph 36805 (\\N{CJK UNIFIED IDEOGRAPH-8FC5}) missing from current font.\n",
      "  fig.canvas.print_figure(bytes_io, **kw)\n",
      "C:\\Users\\manje\\AppData\\Roaming\\Python\\Python310\\site-packages\\IPython\\core\\pylabtools.py:151: UserWarning: Glyph 29590 (\\N{CJK UNIFIED IDEOGRAPH-7396}) missing from current font.\n",
      "  fig.canvas.print_figure(bytes_io, **kw)\n",
      "C:\\Users\\manje\\AppData\\Roaming\\Python\\Python310\\site-packages\\IPython\\core\\pylabtools.py:151: UserWarning: Glyph 22777 (\\N{CJK UNIFIED IDEOGRAPH-58F9}) missing from current font.\n",
      "  fig.canvas.print_figure(bytes_io, **kw)\n",
      "C:\\Users\\manje\\AppData\\Roaming\\Python\\Python310\\site-packages\\IPython\\core\\pylabtools.py:151: UserWarning: Glyph 35613 (\\N{CJK UNIFIED IDEOGRAPH-8B1D}) missing from current font.\n",
      "  fig.canvas.print_figure(bytes_io, **kw)\n",
      "C:\\Users\\manje\\AppData\\Roaming\\Python\\Python310\\site-packages\\IPython\\core\\pylabtools.py:151: UserWarning: Glyph 21644 (\\N{CJK UNIFIED IDEOGRAPH-548C}) missing from current font.\n",
      "  fig.canvas.print_figure(bytes_io, **kw)\n",
      "C:\\Users\\manje\\AppData\\Roaming\\Python\\Python310\\site-packages\\IPython\\core\\pylabtools.py:151: UserWarning: Glyph 24358 (\\N{CJK UNIFIED IDEOGRAPH-5F26}) missing from current font.\n",
      "  fig.canvas.print_figure(bytes_io, **kw)\n"
     ]
    },
    {
     "data": {
      "image/png": "[encoded data removed]",
      "text/plain": [
       "<Figure size 864x576 with 1 Axes>"
      ]
     },
     "metadata": {
      "needs_background": "light"
     },
     "output_type": "display_data"
    }
   ],
   "source": [
    "# song artist_name plot top 10\n",
    "top10 = pd.DataFrame(all_data.groupby('artist_name')['artist_name'].count().nlargest(10))\n",
    "top10.rename(columns={'artist_name':'artist_name'},inplace=True)\n",
    "top10.plot(kind='bar',figsize=(12,8),color='blue')"
   ]
  },
  {
   "cell_type": "markdown",
   "metadata": {},
   "source": [
    "Conclusion : Around 4.1% of the artitst_name variable are unknown and named with 'Various artist'. The most famous artist the kk-box platform are Jay Chou and Mayday engaging 2.5% of the registered auidience ."
   ]
  },
  {
   "cell_type": "markdown",
   "metadata": {},
   "source": [
    "##### Artist preference among gender"
   ]
  },
  {
   "cell_type": "code",
   "execution_count": 20,
   "metadata": {},
   "outputs": [
    {
     "name": "stderr",
     "output_type": "stream",
     "text": [
      "C:\\Users\\manje\\AppData\\Roaming\\Python\\Python310\\site-packages\\IPython\\core\\pylabtools.py:151: UserWarning: Glyph 21608 (\\N{CJK UNIFIED IDEOGRAPH-5468}) missing from current font.\n",
      "  fig.canvas.print_figure(bytes_io, **kw)\n",
      "C:\\Users\\manje\\AppData\\Roaming\\Python\\Python310\\site-packages\\IPython\\core\\pylabtools.py:151: UserWarning: Glyph 26480 (\\N{CJK UNIFIED IDEOGRAPH-6770}) missing from current font.\n",
      "  fig.canvas.print_figure(bytes_io, **kw)\n",
      "C:\\Users\\manje\\AppData\\Roaming\\Python\\Python310\\site-packages\\IPython\\core\\pylabtools.py:151: UserWarning: Glyph 20523 (\\N{CJK UNIFIED IDEOGRAPH-502B}) missing from current font.\n",
      "  fig.canvas.print_figure(bytes_io, **kw)\n",
      "C:\\Users\\manje\\AppData\\Roaming\\Python\\Python310\\site-packages\\IPython\\core\\pylabtools.py:151: UserWarning: Glyph 20116 (\\N{CJK UNIFIED IDEOGRAPH-4E94}) missing from current font.\n",
      "  fig.canvas.print_figure(bytes_io, **kw)\n",
      "C:\\Users\\manje\\AppData\\Roaming\\Python\\Python310\\site-packages\\IPython\\core\\pylabtools.py:151: UserWarning: Glyph 26376 (\\N{CJK UNIFIED IDEOGRAPH-6708}) missing from current font.\n",
      "  fig.canvas.print_figure(bytes_io, **kw)\n",
      "C:\\Users\\manje\\AppData\\Roaming\\Python\\Python310\\site-packages\\IPython\\core\\pylabtools.py:151: UserWarning: Glyph 22825 (\\N{CJK UNIFIED IDEOGRAPH-5929}) missing from current font.\n",
      "  fig.canvas.print_figure(bytes_io, **kw)\n",
      "C:\\Users\\manje\\AppData\\Roaming\\Python\\Python310\\site-packages\\IPython\\core\\pylabtools.py:151: UserWarning: Glyph 26519 (\\N{CJK UNIFIED IDEOGRAPH-6797}) missing from current font.\n",
      "  fig.canvas.print_figure(bytes_io, **kw)\n",
      "C:\\Users\\manje\\AppData\\Roaming\\Python\\Python310\\site-packages\\IPython\\core\\pylabtools.py:151: UserWarning: Glyph 20426 (\\N{CJK UNIFIED IDEOGRAPH-4FCA}) missing from current font.\n",
      "  fig.canvas.print_figure(bytes_io, **kw)\n",
      "C:\\Users\\manje\\AppData\\Roaming\\Python\\Python310\\site-packages\\IPython\\core\\pylabtools.py:151: UserWarning: Glyph 20625 (\\N{CJK UNIFIED IDEOGRAPH-5091}) missing from current font.\n",
      "  fig.canvas.print_figure(bytes_io, **kw)\n",
      "C:\\Users\\manje\\AppData\\Roaming\\Python\\Python310\\site-packages\\IPython\\core\\pylabtools.py:151: UserWarning: Glyph 30000 (\\N{CJK UNIFIED IDEOGRAPH-7530}) missing from current font.\n",
      "  fig.canvas.print_figure(bytes_io, **kw)\n",
      "C:\\Users\\manje\\AppData\\Roaming\\Python\\Python310\\site-packages\\IPython\\core\\pylabtools.py:151: UserWarning: Glyph 39333 (\\N{CJK UNIFIED IDEOGRAPH-99A5}) missing from current font.\n",
      "  fig.canvas.print_figure(bytes_io, **kw)\n",
      "C:\\Users\\manje\\AppData\\Roaming\\Python\\Python310\\site-packages\\IPython\\core\\pylabtools.py:151: UserWarning: Glyph 29956 (\\N{CJK UNIFIED IDEOGRAPH-7504}) missing from current font.\n",
      "  fig.canvas.print_figure(bytes_io, **kw)\n",
      "C:\\Users\\manje\\AppData\\Roaming\\Python\\Python310\\site-packages\\IPython\\core\\pylabtools.py:151: UserWarning: Glyph 24373 (\\N{CJK UNIFIED IDEOGRAPH-5F35}) missing from current font.\n",
      "  fig.canvas.print_figure(bytes_io, **kw)\n",
      "C:\\Users\\manje\\AppData\\Roaming\\Python\\Python310\\site-packages\\IPython\\core\\pylabtools.py:151: UserWarning: Glyph 24800 (\\N{CJK UNIFIED IDEOGRAPH-60E0}) missing from current font.\n",
      "  fig.canvas.print_figure(bytes_io, **kw)\n",
      "C:\\Users\\manje\\AppData\\Roaming\\Python\\Python310\\site-packages\\IPython\\core\\pylabtools.py:151: UserWarning: Glyph 22969 (\\N{CJK UNIFIED IDEOGRAPH-59B9}) missing from current font.\n",
      "  fig.canvas.print_figure(bytes_io, **kw)\n",
      "C:\\Users\\manje\\AppData\\Roaming\\Python\\Python310\\site-packages\\IPython\\core\\pylabtools.py:151: UserWarning: Glyph 38515 (\\N{CJK UNIFIED IDEOGRAPH-9673}) missing from current font.\n",
      "  fig.canvas.print_figure(bytes_io, **kw)\n",
      "C:\\Users\\manje\\AppData\\Roaming\\Python\\Python310\\site-packages\\IPython\\core\\pylabtools.py:151: UserWarning: Glyph 22869 (\\N{CJK UNIFIED IDEOGRAPH-5955}) missing from current font.\n",
      "  fig.canvas.print_figure(bytes_io, **kw)\n",
      "C:\\Users\\manje\\AppData\\Roaming\\Python\\Python310\\site-packages\\IPython\\core\\pylabtools.py:151: UserWarning: Glyph 36805 (\\N{CJK UNIFIED IDEOGRAPH-8FC5}) missing from current font.\n",
      "  fig.canvas.print_figure(bytes_io, **kw)\n",
      "C:\\Users\\manje\\AppData\\Roaming\\Python\\Python310\\site-packages\\IPython\\core\\pylabtools.py:151: UserWarning: Glyph 29590 (\\N{CJK UNIFIED IDEOGRAPH-7396}) missing from current font.\n",
      "  fig.canvas.print_figure(bytes_io, **kw)\n",
      "C:\\Users\\manje\\AppData\\Roaming\\Python\\Python310\\site-packages\\IPython\\core\\pylabtools.py:151: UserWarning: Glyph 22777 (\\N{CJK UNIFIED IDEOGRAPH-58F9}) missing from current font.\n",
      "  fig.canvas.print_figure(bytes_io, **kw)\n"
     ]
    },
    {
     "data": {
      "image/png": "[encoded data removed]",
      "text/plain": [
       "<Figure size 1296x576 with 1 Axes>"
      ]
     },
     "metadata": {
      "needs_background": "light"
     },
     "output_type": "display_data"
    }
   ],
   "source": [
    "a = pd.DataFrame(all_data.groupby(['gender', 'artist_name']).size().reset_index())\n",
    "a = a.sort_values(by = 0, ascending = False)\n",
    "a = a.iloc[:20, :]\n",
    "a.replace(0, 'NAN', inplace = True)\n",
    "b = np.array(a.groupby('gender')[0].sum().reset_index())\n",
    "plt.figure(figsize = (18,8))\n",
    "ax = sns.barplot(hue= 'artist_name',y = 0, data = a, x = 'gender')\n",
    "plt.xticks(rotation = 45, fontsize = 12)\n",
    "plt.xlabel('gender', fontdict = {'fontsize':15})\n",
    "plt.ylabel('count', fontdict = {'fontsize':15})\n",
    "plt.title('gender  vs  artist_name', fontdict = {'fontsize': 23})\n",
    "plt.legend(loc = 'upper right')\n",
    "plt.show()"
   ]
  },
  {
   "cell_type": "markdown",
   "metadata": {},
   "source": [
    "Conclusion : Jay Chou which was the most listened artist in males whereas Mayday was the most listened artist in females."
   ]
  },
  {
   "cell_type": "markdown",
   "metadata": {},
   "source": [
    "##### Target vs SourceType"
   ]
  },
  {
   "cell_type": "code",
   "execution_count": 24,
   "metadata": {},
   "outputs": [
    {
     "data": {
      "text/plain": [
       "<AxesSubplot:xlabel='source_type', ylabel='count'>"
      ]
     },
     "execution_count": 24,
     "metadata": {},
     "output_type": "execute_result"
    },
    {
     "data": {
      "image/png": "[encoded data removed]",
      "text/plain": [
       "<Figure size 864x432 with 1 Axes>"
      ]
     },
     "metadata": {
      "needs_background": "light"
     },
     "output_type": "display_data"
    }
   ],
   "source": [
    "plt.figure(figsize = (12, 6))\n",
    "plt.xticks(rotation=40,ha='right')\n",
    "sns.countplot(x='source_type', hue='target', data=all_data)"
   ]
  },
  {
   "cell_type": "markdown",
   "metadata": {},
   "source": [
    "##### Target vs SourceScreenType"
   ]
  },
  {
   "cell_type": "code",
   "execution_count": 25,
   "metadata": {},
   "outputs": [
    {
     "data": {
      "text/plain": [
       "<AxesSubplot:xlabel='source_screen_name', ylabel='count'>"
      ]
     },
     "execution_count": 25,
     "metadata": {},
     "output_type": "execute_result"
    },
    {
     "data": {
      "image/png": "[encoded data removed]",
      "text/plain": [
       "<Figure size 864x432 with 1 Axes>"
      ]
     },
     "metadata": {
      "needs_background": "light"
     },
     "output_type": "display_data"
    }
   ],
   "source": [
    "plt.figure(figsize = (12, 6))\n",
    "plt.xticks(rotation=40, ha='right')\n",
    "sns.countplot(x=all_data['source_screen_name'], hue='target', data=all_data)"
   ]
  },
  {
   "cell_type": "markdown",
   "metadata": {},
   "source": [
    "##### Target vs SourceSystemTab"
   ]
  },
  {
   "cell_type": "code",
   "execution_count": 26,
   "metadata": {},
   "outputs": [
    {
     "data": {
      "text/plain": [
       "<AxesSubplot:xlabel='source_system_tab', ylabel='count'>"
      ]
     },
     "execution_count": 26,
     "metadata": {},
     "output_type": "execute_result"
    },
    {
     "data": {
      "image/png": "[encoded data removed]",
      "text/plain": [
       "<Figure size 864x432 with 1 Axes>"
      ]
     },
     "metadata": {
      "needs_background": "light"
     },
     "output_type": "display_data"
    }
   ],
   "source": [
    "plt.figure(figsize = (12, 6))\n",
    "plt.xticks(rotation=40, ha='right')\n",
    "sns.countplot(x='source_system_tab', hue='target', data=all_data)"
   ]
  },
  {
   "cell_type": "markdown",
   "metadata": {},
   "source": [
    "Conclusion : Most of the registered auidience were seen engaging with the kk-box platform via 'local library'as their entry point to play music. Also the audience listening to music via \"my library\" has more chances to repeat or play the same song within a duration while the audience listening via \"radio\" have the least possibility."
   ]
  },
  {
   "cell_type": "markdown",
   "metadata": {},
   "source": [
    "##### Genre Id Distribution (Top 10)"
   ]
  },
  {
   "cell_type": "code",
   "execution_count": 29,
   "metadata": {},
   "outputs": [
    {
     "data": {
      "text/plain": [
       "<AxesSubplot:xlabel='genre_ids'>"
      ]
     },
     "execution_count": 29,
     "metadata": {},
     "output_type": "execute_result"
    },
    {
     "data": {
      "image/png": "[encoded data removed]",
      "text/plain": [
       "<Figure size 864x576 with 1 Axes>"
      ]
     },
     "metadata": {
      "needs_background": "light"
     },
     "output_type": "display_data"
    }
   ],
   "source": [
    "top10 = pd.DataFrame(all_data.groupby('genre_ids')['genre_ids'].count().nlargest(10))\n",
    "top10.rename(columns={'genre_ids':'genre_id'},inplace=True)\n",
    "top10.plot(kind='bar',figsize=(12,8),color='salmon')"
   ]
  },
  {
   "cell_type": "markdown",
   "metadata": {},
   "source": [
    "Conclusion : The most listened genre among the regsitered auidiences is genre id 465."
   ]
  },
  {
   "cell_type": "markdown",
   "metadata": {},
   "source": [
    "# Models Methods and Results"
   ]
  },
  {
   "cell_type": "markdown",
   "metadata": {},
   "source": [
    "Importing scikit-learn modules"
   ]
  },
  {
   "cell_type": "code",
   "execution_count": 30,
   "metadata": {},
   "outputs": [],
   "source": [
    "from sklearn import preprocessing\n",
    "from sklearn.neighbors import KNeighborsClassifier\n",
    "from sklearn.preprocessing import StandardScaler\n",
    "from sklearn.pipeline import make_pipeline\n",
    "from sklearn.model_selection import GridSearchCV\n",
    "from sklearn.metrics import accuracy_score\n",
    "from sklearn.compose import make_column_transformer\n",
    "from sklearn.metrics import confusion_matrix\n",
    "from sklearn.metrics import plot_confusion_matrix\n",
    "from sklearn.model_selection import train_test_split"
   ]
  },
  {
   "cell_type": "markdown",
   "metadata": {},
   "source": [
    "Features observation and handling"
   ]
  },
  {
   "cell_type": "code",
   "execution_count": 10,
   "metadata": {},
   "outputs": [
    {
     "data": {
      "text/plain": [
       "Index(['msno', 'song_id', 'source_system_tab', 'source_screen_name',\n",
       "       'source_type', 'target', 'song_length', 'genre_ids', 'artist_name',\n",
       "       'language', 'name', 'city', 'bd', 'gender', 'registered_via',\n",
       "       'registration_init_time', 'expiration_date',\n",
       "       'registration_init_time_year', 'registration_init_time_month',\n",
       "       'registration_init_time_day', 'expiration_date_year',\n",
       "       'expiration_date_month', 'expiration_date_day'],\n",
       "      dtype='object')"
      ]
     },
     "execution_count": 10,
     "metadata": {},
     "output_type": "execute_result"
    }
   ],
   "source": [
    "all_data.columns"
   ]
  },
  {
   "cell_type": "code",
   "execution_count": 11,
   "metadata": {},
   "outputs": [
    {
     "name": "stdout",
     "output_type": "stream",
     "text": [
      "<class 'pandas.core.frame.DataFrame'>\n",
      "Int64Index: 7257510 entries, 0 to 7377417\n",
      "Data columns (total 15 columns):\n",
      " #   Column                       Dtype  \n",
      "---  ------                       -----  \n",
      " 0   msno                         object \n",
      " 1   song_id                      object \n",
      " 2   source_system_tab            object \n",
      " 3   source_screen_name           object \n",
      " 4   source_type                  object \n",
      " 5   target                       int64  \n",
      " 6   song_length                  float64\n",
      " 7   genre_ids                    object \n",
      " 8   artist_name                  object \n",
      " 9   language                     float64\n",
      " 10  name                         object \n",
      " 11  city                         int64  \n",
      " 12  registered_via               int64  \n",
      " 13  registration_init_time_year  int64  \n",
      " 14  expiration_date_year         int64  \n",
      "dtypes: float64(2), int64(5), object(8)\n",
      "memory usage: 885.9+ MB\n"
     ]
    }
   ],
   "source": [
    "features = ['msno', 'song_id', 'source_system_tab', 'source_screen_name',\n",
    "            'source_type', 'target', 'song_length', 'genre_ids', 'artist_name',\n",
    "            'language', 'name', 'city', 'registered_via',\n",
    "            'registration_init_time_year', 'expiration_date_year']\n",
    "all_data[features].info()"
   ]
  },
  {
   "cell_type": "code",
   "execution_count": 12,
   "metadata": {},
   "outputs": [
    {
     "data": {
      "text/plain": [
       "msno                           0\n",
       "song_id                        0\n",
       "source_system_tab              0\n",
       "source_screen_name             0\n",
       "source_type                    0\n",
       "target                         0\n",
       "song_length                    0\n",
       "genre_ids                      0\n",
       "artist_name                    0\n",
       "language                       0\n",
       "name                           0\n",
       "city                           0\n",
       "registered_via                 0\n",
       "registration_init_time_year    0\n",
       "expiration_date_year           0\n",
       "dtype: int64"
      ]
     },
     "execution_count": 12,
     "metadata": {},
     "output_type": "execute_result"
    }
   ],
   "source": [
    "all_data[features].isna().sum()"
   ]
  },
  {
   "cell_type": "markdown",
   "metadata": {},
   "source": [
    "Correlation plot"
   ]
  },
  {
   "cell_type": "code",
   "execution_count": 13,
   "metadata": {},
   "outputs": [
    {
     "data": {
      "text/html": [
       "<div>\n",
       "<style scoped>\n",
       "    .dataframe tbody tr th:only-of-type {\n",
       "        vertical-align: middle;\n",
       "    }\n",
       "\n",
       "    .dataframe tbody tr th {\n",
       "        vertical-align: top;\n",
       "    }\n",
       "\n",
       "    .dataframe thead th {\n",
       "        text-align: right;\n",
       "    }\n",
       "</style>\n",
       "<table border=\"1\" class=\"dataframe\">\n",
       "  <thead>\n",
       "    <tr style=\"text-align: right;\">\n",
       "      <th></th>\n",
       "      <th>target</th>\n",
       "      <th>song_length</th>\n",
       "      <th>language</th>\n",
       "      <th>city</th>\n",
       "      <th>registered_via</th>\n",
       "      <th>registration_init_time_year</th>\n",
       "      <th>expiration_date_year</th>\n",
       "    </tr>\n",
       "  </thead>\n",
       "  <tbody>\n",
       "    <tr>\n",
       "      <th>target</th>\n",
       "      <td>1.000000</td>\n",
       "      <td>-0.002011</td>\n",
       "      <td>-0.027405</td>\n",
       "      <td>0.011948</td>\n",
       "      <td>0.009701</td>\n",
       "      <td>-0.001790</td>\n",
       "      <td>0.042308</td>\n",
       "    </tr>\n",
       "    <tr>\n",
       "      <th>song_length</th>\n",
       "      <td>-0.002011</td>\n",
       "      <td>1.000000</td>\n",
       "      <td>-0.212982</td>\n",
       "      <td>0.005186</td>\n",
       "      <td>0.002906</td>\n",
       "      <td>-0.007623</td>\n",
       "      <td>0.004539</td>\n",
       "    </tr>\n",
       "    <tr>\n",
       "      <th>language</th>\n",
       "      <td>-0.027405</td>\n",
       "      <td>-0.212982</td>\n",
       "      <td>1.000000</td>\n",
       "      <td>-0.022314</td>\n",
       "      <td>-0.000521</td>\n",
       "      <td>0.009426</td>\n",
       "      <td>-0.004152</td>\n",
       "    </tr>\n",
       "    <tr>\n",
       "      <th>city</th>\n",
       "      <td>0.011948</td>\n",
       "      <td>0.005186</td>\n",
       "      <td>-0.022314</td>\n",
       "      <td>1.000000</td>\n",
       "      <td>0.073648</td>\n",
       "      <td>-0.280145</td>\n",
       "      <td>0.149992</td>\n",
       "    </tr>\n",
       "    <tr>\n",
       "      <th>registered_via</th>\n",
       "      <td>0.009701</td>\n",
       "      <td>0.002906</td>\n",
       "      <td>-0.000521</td>\n",
       "      <td>0.073648</td>\n",
       "      <td>1.000000</td>\n",
       "      <td>-0.442610</td>\n",
       "      <td>0.083905</td>\n",
       "    </tr>\n",
       "    <tr>\n",
       "      <th>registration_init_time_year</th>\n",
       "      <td>-0.001790</td>\n",
       "      <td>-0.007623</td>\n",
       "      <td>0.009426</td>\n",
       "      <td>-0.280145</td>\n",
       "      <td>-0.442610</td>\n",
       "      <td>1.000000</td>\n",
       "      <td>-0.091728</td>\n",
       "    </tr>\n",
       "    <tr>\n",
       "      <th>expiration_date_year</th>\n",
       "      <td>0.042308</td>\n",
       "      <td>0.004539</td>\n",
       "      <td>-0.004152</td>\n",
       "      <td>0.149992</td>\n",
       "      <td>0.083905</td>\n",
       "      <td>-0.091728</td>\n",
       "      <td>1.000000</td>\n",
       "    </tr>\n",
       "  </tbody>\n",
       "</table>\n",
       "</div>"
      ],
      "text/plain": [
       "                               target  song_length  language      city  \\\n",
       "target                       1.000000    -0.002011 -0.027405  0.011948   \n",
       "song_length                 -0.002011     1.000000 -0.212982  0.005186   \n",
       "language                    -0.027405    -0.212982  1.000000 -0.022314   \n",
       "city                         0.011948     0.005186 -0.022314  1.000000   \n",
       "registered_via               0.009701     0.002906 -0.000521  0.073648   \n",
       "registration_init_time_year -0.001790    -0.007623  0.009426 -0.280145   \n",
       "expiration_date_year         0.042308     0.004539 -0.004152  0.149992   \n",
       "\n",
       "                             registered_via  registration_init_time_year  \\\n",
       "target                             0.009701                    -0.001790   \n",
       "song_length                        0.002906                    -0.007623   \n",
       "language                          -0.000521                     0.009426   \n",
       "city                               0.073648                    -0.280145   \n",
       "registered_via                     1.000000                    -0.442610   \n",
       "registration_init_time_year       -0.442610                     1.000000   \n",
       "expiration_date_year               0.083905                    -0.091728   \n",
       "\n",
       "                             expiration_date_year  \n",
       "target                                   0.042308  \n",
       "song_length                              0.004539  \n",
       "language                                -0.004152  \n",
       "city                                     0.149992  \n",
       "registered_via                           0.083905  \n",
       "registration_init_time_year             -0.091728  \n",
       "expiration_date_year                     1.000000  "
      ]
     },
     "execution_count": 13,
     "metadata": {},
     "output_type": "execute_result"
    }
   ],
   "source": [
    "all_data[features].corr()"
   ]
  },
  {
   "cell_type": "markdown",
   "metadata": {},
   "source": [
    "Encoding and Scaling"
   ]
  },
  {
   "cell_type": "code",
   "execution_count": 14,
   "metadata": {},
   "outputs": [],
   "source": [
    "from sklearn.preprocessing import LabelEncoder\n",
    "enc = LabelEncoder()\n",
    "\n",
    "all_data['msno'] = enc.fit_transform(all_data['msno'])\n",
    "all_data['song_id'] = enc.fit_transform(all_data['song_id'])\n",
    "all_data['source_system_tab'] = enc.fit_transform(all_data['source_system_tab'])\n",
    "all_data['source_screen_name'] = enc.fit_transform(all_data['source_screen_name'])\n",
    "all_data['source_type'] = enc.fit_transform(all_data['source_type'])\n",
    "all_data['genre_ids'] = enc.fit_transform(all_data['genre_ids'].astype('str'))\n",
    "all_data['artist_name'] = enc.fit_transform(all_data['artist_name'].astype('str'))\n",
    "all_data['name'] = enc.fit_transform(all_data['name'].astype('str'))"
   ]
  },
  {
   "cell_type": "code",
   "execution_count": 15,
   "metadata": {},
   "outputs": [],
   "source": [
    "std_scaler = StandardScaler()\n",
    "all_data['song_length'] = std_scaler.fit_transform(all_data[['song_length']])"
   ]
  },
  {
   "cell_type": "code",
   "execution_count": 16,
   "metadata": {},
   "outputs": [
    {
     "data": {
      "text/html": [
       "<div>\n",
       "<style scoped>\n",
       "    .dataframe tbody tr th:only-of-type {\n",
       "        vertical-align: middle;\n",
       "    }\n",
       "\n",
       "    .dataframe tbody tr th {\n",
       "        vertical-align: top;\n",
       "    }\n",
       "\n",
       "    .dataframe thead th {\n",
       "        text-align: right;\n",
       "    }\n",
       "</style>\n",
       "<table border=\"1\" class=\"dataframe\">\n",
       "  <thead>\n",
       "    <tr style=\"text-align: right;\">\n",
       "      <th></th>\n",
       "      <th>msno</th>\n",
       "      <th>song_id</th>\n",
       "      <th>source_system_tab</th>\n",
       "      <th>source_screen_name</th>\n",
       "      <th>source_type</th>\n",
       "      <th>target</th>\n",
       "      <th>song_length</th>\n",
       "      <th>genre_ids</th>\n",
       "      <th>artist_name</th>\n",
       "      <th>language</th>\n",
       "      <th>name</th>\n",
       "      <th>city</th>\n",
       "      <th>registered_via</th>\n",
       "      <th>registration_init_time_year</th>\n",
       "      <th>expiration_date_year</th>\n",
       "    </tr>\n",
       "  </thead>\n",
       "  <tbody>\n",
       "    <tr>\n",
       "      <th>0</th>\n",
       "      <td>8153</td>\n",
       "      <td>73120</td>\n",
       "      <td>2</td>\n",
       "      <td>7</td>\n",
       "      <td>7</td>\n",
       "      <td>1</td>\n",
       "      <td>-0.575281</td>\n",
       "      <td>285</td>\n",
       "      <td>3193</td>\n",
       "      <td>52.0</td>\n",
       "      <td>50643</td>\n",
       "      <td>1</td>\n",
       "      <td>7</td>\n",
       "      <td>2012</td>\n",
       "      <td>2017</td>\n",
       "    </tr>\n",
       "    <tr>\n",
       "      <th>1</th>\n",
       "      <td>17249</td>\n",
       "      <td>218901</td>\n",
       "      <td>4</td>\n",
       "      <td>8</td>\n",
       "      <td>5</td>\n",
       "      <td>1</td>\n",
       "      <td>0.588899</td>\n",
       "      <td>90</td>\n",
       "      <td>31114</td>\n",
       "      <td>52.0</td>\n",
       "      <td>80084</td>\n",
       "      <td>13</td>\n",
       "      <td>9</td>\n",
       "      <td>2011</td>\n",
       "      <td>2017</td>\n",
       "    </tr>\n",
       "    <tr>\n",
       "      <th>2</th>\n",
       "      <td>17249</td>\n",
       "      <td>118276</td>\n",
       "      <td>4</td>\n",
       "      <td>8</td>\n",
       "      <td>5</td>\n",
       "      <td>1</td>\n",
       "      <td>-0.293227</td>\n",
       "      <td>90</td>\n",
       "      <td>20806</td>\n",
       "      <td>52.0</td>\n",
       "      <td>56424</td>\n",
       "      <td>13</td>\n",
       "      <td>9</td>\n",
       "      <td>2011</td>\n",
       "      <td>2017</td>\n",
       "    </tr>\n",
       "    <tr>\n",
       "      <th>3</th>\n",
       "      <td>17249</td>\n",
       "      <td>23205</td>\n",
       "      <td>4</td>\n",
       "      <td>8</td>\n",
       "      <td>5</td>\n",
       "      <td>1</td>\n",
       "      <td>0.155616</td>\n",
       "      <td>6</td>\n",
       "      <td>26712</td>\n",
       "      <td>-1.0</td>\n",
       "      <td>34190</td>\n",
       "      <td>13</td>\n",
       "      <td>9</td>\n",
       "      <td>2011</td>\n",
       "      <td>2017</td>\n",
       "    </tr>\n",
       "    <tr>\n",
       "      <th>4</th>\n",
       "      <td>8153</td>\n",
       "      <td>32627</td>\n",
       "      <td>2</td>\n",
       "      <td>7</td>\n",
       "      <td>7</td>\n",
       "      <td>1</td>\n",
       "      <td>-0.853519</td>\n",
       "      <td>2</td>\n",
       "      <td>4350</td>\n",
       "      <td>52.0</td>\n",
       "      <td>119944</td>\n",
       "      <td>1</td>\n",
       "      <td>7</td>\n",
       "      <td>2012</td>\n",
       "      <td>2017</td>\n",
       "    </tr>\n",
       "  </tbody>\n",
       "</table>\n",
       "</div>"
      ],
      "text/plain": [
       "    msno  song_id  source_system_tab  source_screen_name  source_type  target  \\\n",
       "0   8153    73120                  2                   7            7       1   \n",
       "1  17249   218901                  4                   8            5       1   \n",
       "2  17249   118276                  4                   8            5       1   \n",
       "3  17249    23205                  4                   8            5       1   \n",
       "4   8153    32627                  2                   7            7       1   \n",
       "\n",
       "   song_length  genre_ids  artist_name  language    name  city  \\\n",
       "0    -0.575281        285         3193      52.0   50643     1   \n",
       "1     0.588899         90        31114      52.0   80084    13   \n",
       "2    -0.293227         90        20806      52.0   56424    13   \n",
       "3     0.155616          6        26712      -1.0   34190    13   \n",
       "4    -0.853519          2         4350      52.0  119944     1   \n",
       "\n",
       "   registered_via  registration_init_time_year  expiration_date_year  \n",
       "0               7                         2012                  2017  \n",
       "1               9                         2011                  2017  \n",
       "2               9                         2011                  2017  \n",
       "3               9                         2011                  2017  \n",
       "4               7                         2012                  2017  "
      ]
     },
     "execution_count": 16,
     "metadata": {},
     "output_type": "execute_result"
    }
   ],
   "source": [
    "all_data[features].head()"
   ]
  },
  {
   "cell_type": "markdown",
   "metadata": {},
   "source": [
    "# Random sampling 10%"
   ]
  },
  {
   "cell_type": "markdown",
   "metadata": {},
   "source": [
    "Due to large number of rows in the collected dataset and computational limitation , the dataset in sampled into its 10% using Random sampling for models to work well and efficient on the dataset."
   ]
  },
  {
   "cell_type": "code",
   "execution_count": 17,
   "metadata": {},
   "outputs": [
    {
     "data": {
      "text/html": [
       "<div>\n",
       "<style scoped>\n",
       "    .dataframe tbody tr th:only-of-type {\n",
       "        vertical-align: middle;\n",
       "    }\n",
       "\n",
       "    .dataframe tbody tr th {\n",
       "        vertical-align: top;\n",
       "    }\n",
       "\n",
       "    .dataframe thead th {\n",
       "        text-align: right;\n",
       "    }\n",
       "</style>\n",
       "<table border=\"1\" class=\"dataframe\">\n",
       "  <thead>\n",
       "    <tr style=\"text-align: right;\">\n",
       "      <th></th>\n",
       "      <th>msno</th>\n",
       "      <th>song_id</th>\n",
       "      <th>source_system_tab</th>\n",
       "      <th>source_screen_name</th>\n",
       "      <th>source_type</th>\n",
       "      <th>target</th>\n",
       "      <th>song_length</th>\n",
       "      <th>genre_ids</th>\n",
       "      <th>artist_name</th>\n",
       "      <th>language</th>\n",
       "      <th>name</th>\n",
       "      <th>city</th>\n",
       "      <th>registered_via</th>\n",
       "      <th>registration_init_time_year</th>\n",
       "      <th>expiration_date_year</th>\n",
       "    </tr>\n",
       "  </thead>\n",
       "  <tbody>\n",
       "    <tr>\n",
       "      <th>558824</th>\n",
       "      <td>14827</td>\n",
       "      <td>13690</td>\n",
       "      <td>4</td>\n",
       "      <td>8</td>\n",
       "      <td>4</td>\n",
       "      <td>1</td>\n",
       "      <td>-0.377493</td>\n",
       "      <td>344</td>\n",
       "      <td>33648</td>\n",
       "      <td>3.0</td>\n",
       "      <td>205313</td>\n",
       "      <td>1</td>\n",
       "      <td>7</td>\n",
       "      <td>2016</td>\n",
       "      <td>2017</td>\n",
       "    </tr>\n",
       "    <tr>\n",
       "      <th>5341987</th>\n",
       "      <td>10720</td>\n",
       "      <td>268462</td>\n",
       "      <td>1</td>\n",
       "      <td>11</td>\n",
       "      <td>7</td>\n",
       "      <td>0</td>\n",
       "      <td>-0.642243</td>\n",
       "      <td>323</td>\n",
       "      <td>8787</td>\n",
       "      <td>31.0</td>\n",
       "      <td>150123</td>\n",
       "      <td>22</td>\n",
       "      <td>4</td>\n",
       "      <td>2015</td>\n",
       "      <td>2017</td>\n",
       "    </tr>\n",
       "    <tr>\n",
       "      <th>6253768</th>\n",
       "      <td>17460</td>\n",
       "      <td>237749</td>\n",
       "      <td>4</td>\n",
       "      <td>8</td>\n",
       "      <td>5</td>\n",
       "      <td>1</td>\n",
       "      <td>0.345088</td>\n",
       "      <td>515</td>\n",
       "      <td>31114</td>\n",
       "      <td>3.0</td>\n",
       "      <td>182576</td>\n",
       "      <td>13</td>\n",
       "      <td>9</td>\n",
       "      <td>2011</td>\n",
       "      <td>2017</td>\n",
       "    </tr>\n",
       "    <tr>\n",
       "      <th>533236</th>\n",
       "      <td>25470</td>\n",
       "      <td>60328</td>\n",
       "      <td>4</td>\n",
       "      <td>8</td>\n",
       "      <td>4</td>\n",
       "      <td>1</td>\n",
       "      <td>0.628513</td>\n",
       "      <td>344</td>\n",
       "      <td>13704</td>\n",
       "      <td>17.0</td>\n",
       "      <td>53271</td>\n",
       "      <td>1</td>\n",
       "      <td>7</td>\n",
       "      <td>2013</td>\n",
       "      <td>2017</td>\n",
       "    </tr>\n",
       "    <tr>\n",
       "      <th>3763969</th>\n",
       "      <td>7422</td>\n",
       "      <td>226983</td>\n",
       "      <td>4</td>\n",
       "      <td>8</td>\n",
       "      <td>4</td>\n",
       "      <td>1</td>\n",
       "      <td>0.751544</td>\n",
       "      <td>344</td>\n",
       "      <td>900</td>\n",
       "      <td>52.0</td>\n",
       "      <td>55165</td>\n",
       "      <td>21</td>\n",
       "      <td>9</td>\n",
       "      <td>2011</td>\n",
       "      <td>2017</td>\n",
       "    </tr>\n",
       "  </tbody>\n",
       "</table>\n",
       "</div>"
      ],
      "text/plain": [
       "          msno  song_id  source_system_tab  source_screen_name  source_type  \\\n",
       "558824   14827    13690                  4                   8            4   \n",
       "5341987  10720   268462                  1                  11            7   \n",
       "6253768  17460   237749                  4                   8            5   \n",
       "533236   25470    60328                  4                   8            4   \n",
       "3763969   7422   226983                  4                   8            4   \n",
       "\n",
       "         target  song_length  genre_ids  artist_name  language    name  city  \\\n",
       "558824        1    -0.377493        344        33648       3.0  205313     1   \n",
       "5341987       0    -0.642243        323         8787      31.0  150123    22   \n",
       "6253768       1     0.345088        515        31114       3.0  182576    13   \n",
       "533236        1     0.628513        344        13704      17.0   53271     1   \n",
       "3763969       1     0.751544        344          900      52.0   55165    21   \n",
       "\n",
       "         registered_via  registration_init_time_year  expiration_date_year  \n",
       "558824                7                         2016                  2017  \n",
       "5341987               4                         2015                  2017  \n",
       "6253768               9                         2011                  2017  \n",
       "533236                7                         2013                  2017  \n",
       "3763969               9                         2011                  2017  "
      ]
     },
     "execution_count": 17,
     "metadata": {},
     "output_type": "execute_result"
    }
   ],
   "source": [
    "train_data = all_data[features].sample(frac = 0.1)\n",
    "train_data.head()"
   ]
  },
  {
   "cell_type": "markdown",
   "metadata": {},
   "source": [
    "## Data Spliting "
   ]
  },
  {
   "cell_type": "code",
   "execution_count": 31,
   "metadata": {},
   "outputs": [],
   "source": [
    "X = train_data.drop(columns='target')\n",
    "y = train_data.target"
   ]
  },
  {
   "cell_type": "markdown",
   "metadata": {},
   "source": [
    "# 1)    Train - 80% Test - 20%"
   ]
  },
  {
   "cell_type": "code",
   "execution_count": 32,
   "metadata": {},
   "outputs": [
    {
     "name": "stdout",
     "output_type": "stream",
     "text": [
      "(464480, 14) (464480,) (116120, 14) (116120,) (145151, 14) (145151,)\n"
     ]
    }
   ],
   "source": [
    "X_trainval, X_test, y_trainval, y_test = train_test_split(X, y, stratify=y, random_state=0, test_size=0.2)\n",
    "X_train, X_val, y_train, y_val = train_test_split(X_trainval, y_trainval, stratify=y_trainval, random_state=0, test_size=0.2)\n",
    "\n",
    "print(X_train.shape, y_train.shape, X_val.shape, y_val.shape, X_test.shape, y_test.shape)"
   ]
  },
  {
   "cell_type": "markdown",
   "metadata": {},
   "source": [
    "## XGBoost"
   ]
  },
  {
   "cell_type": "code",
   "execution_count": 21,
   "metadata": {},
   "outputs": [
    {
     "name": "stdout",
     "output_type": "stream",
     "text": [
      "best estimator and parameters: XGBClassifier(base_score=0.5, booster='gbtree', callbacks=None,\n",
      "              colsample_bylevel=1, colsample_bynode=1, colsample_bytree=1,\n",
      "              early_stopping_rounds=None, enable_categorical=False,\n",
      "              eval_metric=None, gamma=0, gpu_id=-1, grow_policy='depthwise',\n",
      "              importance_type=None, interaction_constraints='',\n",
      "              learning_rate=0.3, max_bin=256, max_cat_to_onehot=4,\n",
      "              max_delta_step=0, max_depth=6, max_leaves=0, min_child_weight=1,\n",
      "              missing=nan, monotone_constraints='()', n_estimators=500,\n",
      "              n_jobs=0, num_parallel_tree=1, predictor='auto', random_state=0,\n",
      "              reg_alpha=0, reg_lambda=1, ...)\n"
     ]
    }
   ],
   "source": [
    "import xgboost \n",
    "from xgboost import XGBClassifier\n",
    "xgb = XGBClassifier(use_label_encoder=False)\n",
    "\n",
    "param_grid = {'max_depth':[6,7],'learning_rate':[0.03, 0.3], 'n_estimators':[250,500]}\n",
    "xgb_grid = GridSearchCV(xgb,param_grid=param_grid, cv=2, return_train_score=True, n_jobs=-1)\n",
    "xgb_grid.fit(X_trainval, y_trainval)\n",
    "predicted = xgb_grid.predict(X_test)\n",
    "\n",
    "print(f\"best estimator and parameters: {xgb_grid.best_estimator_}\")"
   ]
  },
  {
   "cell_type": "code",
   "execution_count": 22,
   "metadata": {},
   "outputs": [
    {
     "name": "stdout",
     "output_type": "stream",
     "text": [
      "accuracy on trainval set: 0.706660\n",
      "accuracy on test set: 0.659548\n"
     ]
    }
   ],
   "source": [
    "print(\"accuracy on trainval set: %f\" % xgb_grid.score(X_trainval, y_trainval))\n",
    "print(\"accuracy on test set: %f\" % xgb_grid.score(X_test, y_test))"
   ]
  },
  {
   "cell_type": "code",
   "execution_count": 23,
   "metadata": {},
   "outputs": [
    {
     "name": "stdout",
     "output_type": "stream",
     "text": [
      "[[44965 27021]\n",
      " [22396 50769]]\n"
     ]
    },
    {
     "name": "stderr",
     "output_type": "stream",
     "text": [
      "C:\\Users\\manje\\AppData\\Local\\Programs\\Python\\Python310\\lib\\site-packages\\sklearn\\utils\\deprecation.py:87: FutureWarning: Function plot_confusion_matrix is deprecated; Function `plot_confusion_matrix` is deprecated in 1.0 and will be removed in 1.2. Use one of the class methods: ConfusionMatrixDisplay.from_predictions or ConfusionMatrixDisplay.from_estimator.\n",
      "  warnings.warn(msg, category=FutureWarning)\n"
     ]
    },
    {
     "name": "stdout",
     "output_type": "stream",
     "text": [
      "accuracy: 0.659547643488505\n",
      "precision: 0.6526417277284998\n",
      "recall: 0.6938973552928313\n",
      "f1 score:  0.6726375409890364\n"
     ]
    },
    {
     "data": {
      "image/png": "[encoded data removed]",
      "text/plain": [
       "<Figure size 360x360 with 2 Axes>"
      ]
     },
     "metadata": {
      "needs_background": "light"
     },
     "output_type": "display_data"
    }
   ],
   "source": [
    "test_calc = pd.concat([pd.DataFrame(y_test).reset_index(drop=True),pd.DataFrame(predicted).reset_index(drop=True)],axis=1)\n",
    "test_calc.rename(columns={0: 'predicted'}, inplace=True)\n",
    "\n",
    "test_calc['predicted'] = test_calc['predicted'].apply(lambda x: 1 if x > 0.5 else 0)\n",
    "df_table = confusion_matrix(test_calc['target'],test_calc['predicted'])\n",
    "print (df_table)\n",
    "\n",
    "#For graphically representing the confusion matrix\n",
    "fig, ax = plt.subplots(figsize=(5, 5))\n",
    "plot_confusion_matrix(xgb_grid, X_test, y_test, cmap='Blues', ax=ax)\n",
    "\n",
    "a = (df_table[0,0] + df_table[1,1]) / (df_table[0,0] + df_table[0,1] + df_table[1,0] + df_table[1,1])\n",
    "p = df_table[1,1] / (df_table[1,1] + df_table[0,1])\n",
    "r = df_table[1,1] / (df_table[1,1] + df_table[1,0])\n",
    "f1 = (2*p*r)/(p+r)\n",
    "\n",
    "print('accuracy:', a)\n",
    "print ('precision:', p)\n",
    "print('recall:', r)\n",
    "print('f1 score: ', f1)"
   ]
  },
  {
   "cell_type": "markdown",
   "metadata": {},
   "source": [
    "## LightGBM"
   ]
  },
  {
   "cell_type": "code",
   "execution_count": 27,
   "metadata": {},
   "outputs": [],
   "source": [
    "from lightgbm import LGBMClassifier\n",
    "lgbm = LGBMClassifier()\n",
    "lgbm.fit(X_trainval, y_trainval)\n",
    "predicted = lgbm.predict(X_test)"
   ]
  },
  {
   "cell_type": "code",
   "execution_count": 28,
   "metadata": {},
   "outputs": [
    {
     "name": "stdout",
     "output_type": "stream",
     "text": [
      "accuracy on trainval set: 0.643302\n",
      "accuracy on test set: 0.641876\n"
     ]
    }
   ],
   "source": [
    "print(\"accuracy on trainval set: %f\" % lgbm.score(X_trainval, y_trainval))\n",
    "print(\"accuracy on test set: %f\" % lgbm.score(X_test, y_test))"
   ]
  },
  {
   "cell_type": "code",
   "execution_count": 29,
   "metadata": {},
   "outputs": [
    {
     "name": "stdout",
     "output_type": "stream",
     "text": [
      "[[44914 27072]\n",
      " [24910 48255]]\n"
     ]
    },
    {
     "name": "stderr",
     "output_type": "stream",
     "text": [
      "C:\\Users\\manje\\AppData\\Local\\Programs\\Python\\Python310\\lib\\site-packages\\sklearn\\utils\\deprecation.py:87: FutureWarning: Function plot_confusion_matrix is deprecated; Function `plot_confusion_matrix` is deprecated in 1.0 and will be removed in 1.2. Use one of the class methods: ConfusionMatrixDisplay.from_predictions or ConfusionMatrixDisplay.from_estimator.\n",
      "  warnings.warn(msg, category=FutureWarning)\n"
     ]
    },
    {
     "name": "stdout",
     "output_type": "stream",
     "text": [
      "accuracy: 0.6418763907930363\n",
      "precision: 0.6406069536819468\n",
      "recall: 0.6595366637053236\n",
      "f1 score:  0.6499340031786224\n"
     ]
    },
    {
     "data": {
      "image/png": "[encoded data removed]",
      "text/plain": [
       "<Figure size 360x360 with 2 Axes>"
      ]
     },
     "metadata": {
      "needs_background": "light"
     },
     "output_type": "display_data"
    }
   ],
   "source": [
    "test_calc = pd.concat([pd.DataFrame(y_test).reset_index(drop=True),pd.DataFrame(predicted).reset_index(drop=True)],axis=1)\n",
    "test_calc.rename(columns={0: 'predicted'}, inplace=True)\n",
    "\n",
    "test_calc['predicted'] = test_calc['predicted'].apply(lambda x: 1 if x > 0.5 else 0)\n",
    "df_table = confusion_matrix(test_calc['target'],test_calc['predicted'])\n",
    "print (df_table)\n",
    "\n",
    "#For graphically representing the confusion matrix\n",
    "fig, ax = plt.subplots(figsize=(5, 5))\n",
    "plot_confusion_matrix(lgbm, X_test, y_test, cmap='Blues', ax=ax)\n",
    "\n",
    "a = (df_table[0,0] + df_table[1,1]) / (df_table[0,0] + df_table[0,1] + df_table[1,0] + df_table[1,1])\n",
    "p = df_table[1,1] / (df_table[1,1] + df_table[0,1])\n",
    "r = df_table[1,1] / (df_table[1,1] + df_table[1,0])\n",
    "f1 = (2*p*r)/(p+r)\n",
    "\n",
    "print('accuracy:', a)\n",
    "print ('precision:', p)\n",
    "print('recall:', r)\n",
    "print('f1 score: ', f1)"
   ]
  },
  {
   "cell_type": "markdown",
   "metadata": {},
   "source": [
    "## Random Forest"
   ]
  },
  {
   "cell_type": "code",
   "execution_count": 24,
   "metadata": {},
   "outputs": [
    {
     "name": "stdout",
     "output_type": "stream",
     "text": [
      "best estimator and parameters: RandomForestClassifier(max_depth=10, max_features=10, n_estimators=250)\n"
     ]
    },
    {
     "data": {
      "text/html": [
       "<div>\n",
       "<style scoped>\n",
       "    .dataframe tbody tr th:only-of-type {\n",
       "        vertical-align: middle;\n",
       "    }\n",
       "\n",
       "    .dataframe tbody tr th {\n",
       "        vertical-align: top;\n",
       "    }\n",
       "\n",
       "    .dataframe thead th {\n",
       "        text-align: right;\n",
       "    }\n",
       "</style>\n",
       "<table border=\"1\" class=\"dataframe\">\n",
       "  <thead>\n",
       "    <tr style=\"text-align: right;\">\n",
       "      <th></th>\n",
       "      <th>mean_fit_time</th>\n",
       "      <th>std_fit_time</th>\n",
       "      <th>mean_score_time</th>\n",
       "      <th>std_score_time</th>\n",
       "      <th>param_max_depth</th>\n",
       "      <th>param_max_features</th>\n",
       "      <th>param_n_estimators</th>\n",
       "      <th>params</th>\n",
       "      <th>split0_test_score</th>\n",
       "      <th>split1_test_score</th>\n",
       "      <th>mean_test_score</th>\n",
       "      <th>std_test_score</th>\n",
       "      <th>rank_test_score</th>\n",
       "      <th>split0_train_score</th>\n",
       "      <th>split1_train_score</th>\n",
       "      <th>mean_train_score</th>\n",
       "      <th>std_train_score</th>\n",
       "    </tr>\n",
       "  </thead>\n",
       "  <tbody>\n",
       "    <tr>\n",
       "      <th>0</th>\n",
       "      <td>170.695414</td>\n",
       "      <td>0.097238</td>\n",
       "      <td>6.964688</td>\n",
       "      <td>0.083274</td>\n",
       "      <td>6</td>\n",
       "      <td>6</td>\n",
       "      <td>150</td>\n",
       "      <td>{'max_depth': 6, 'max_features': 6, 'n_estimat...</td>\n",
       "      <td>0.626545</td>\n",
       "      <td>0.627403</td>\n",
       "      <td>0.626974</td>\n",
       "      <td>0.000429</td>\n",
       "      <td>8</td>\n",
       "      <td>0.628174</td>\n",
       "      <td>0.627685</td>\n",
       "      <td>0.627930</td>\n",
       "      <td>0.000245</td>\n",
       "    </tr>\n",
       "    <tr>\n",
       "      <th>1</th>\n",
       "      <td>283.484245</td>\n",
       "      <td>0.119676</td>\n",
       "      <td>11.584210</td>\n",
       "      <td>0.017453</td>\n",
       "      <td>6</td>\n",
       "      <td>6</td>\n",
       "      <td>250</td>\n",
       "      <td>{'max_depth': 6, 'max_features': 6, 'n_estimat...</td>\n",
       "      <td>0.627323</td>\n",
       "      <td>0.627024</td>\n",
       "      <td>0.627174</td>\n",
       "      <td>0.000150</td>\n",
       "      <td>5</td>\n",
       "      <td>0.628877</td>\n",
       "      <td>0.627475</td>\n",
       "      <td>0.628176</td>\n",
       "      <td>0.000701</td>\n",
       "    </tr>\n",
       "    <tr>\n",
       "      <th>2</th>\n",
       "      <td>261.615817</td>\n",
       "      <td>0.066321</td>\n",
       "      <td>6.752759</td>\n",
       "      <td>0.058842</td>\n",
       "      <td>6</td>\n",
       "      <td>10</td>\n",
       "      <td>150</td>\n",
       "      <td>{'max_depth': 6, 'max_features': 10, 'n_estima...</td>\n",
       "      <td>0.626907</td>\n",
       "      <td>0.627330</td>\n",
       "      <td>0.627118</td>\n",
       "      <td>0.000212</td>\n",
       "      <td>6</td>\n",
       "      <td>0.628367</td>\n",
       "      <td>0.627158</td>\n",
       "      <td>0.627763</td>\n",
       "      <td>0.000605</td>\n",
       "    </tr>\n",
       "    <tr>\n",
       "      <th>3</th>\n",
       "      <td>427.517181</td>\n",
       "      <td>0.770919</td>\n",
       "      <td>12.415707</td>\n",
       "      <td>0.322627</td>\n",
       "      <td>6</td>\n",
       "      <td>10</td>\n",
       "      <td>250</td>\n",
       "      <td>{'max_depth': 6, 'max_features': 10, 'n_estima...</td>\n",
       "      <td>0.626896</td>\n",
       "      <td>0.627320</td>\n",
       "      <td>0.627108</td>\n",
       "      <td>0.000212</td>\n",
       "      <td>7</td>\n",
       "      <td>0.628329</td>\n",
       "      <td>0.627110</td>\n",
       "      <td>0.627720</td>\n",
       "      <td>0.000610</td>\n",
       "    </tr>\n",
       "    <tr>\n",
       "      <th>4</th>\n",
       "      <td>251.685388</td>\n",
       "      <td>0.514112</td>\n",
       "      <td>10.448274</td>\n",
       "      <td>0.183006</td>\n",
       "      <td>10</td>\n",
       "      <td>6</td>\n",
       "      <td>150</td>\n",
       "      <td>{'max_depth': 10, 'max_features': 6, 'n_estima...</td>\n",
       "      <td>0.634227</td>\n",
       "      <td>0.635081</td>\n",
       "      <td>0.634654</td>\n",
       "      <td>0.000427</td>\n",
       "      <td>3</td>\n",
       "      <td>0.643111</td>\n",
       "      <td>0.642818</td>\n",
       "      <td>0.642964</td>\n",
       "      <td>0.000146</td>\n",
       "    </tr>\n",
       "    <tr>\n",
       "      <th>5</th>\n",
       "      <td>361.690723</td>\n",
       "      <td>0.181511</td>\n",
       "      <td>11.813089</td>\n",
       "      <td>0.022942</td>\n",
       "      <td>10</td>\n",
       "      <td>6</td>\n",
       "      <td>250</td>\n",
       "      <td>{'max_depth': 10, 'max_features': 6, 'n_estima...</td>\n",
       "      <td>0.634416</td>\n",
       "      <td>0.634847</td>\n",
       "      <td>0.634631</td>\n",
       "      <td>0.000215</td>\n",
       "      <td>4</td>\n",
       "      <td>0.643741</td>\n",
       "      <td>0.642411</td>\n",
       "      <td>0.643076</td>\n",
       "      <td>0.000665</td>\n",
       "    </tr>\n",
       "    <tr>\n",
       "      <th>6</th>\n",
       "      <td>332.639196</td>\n",
       "      <td>0.538545</td>\n",
       "      <td>7.166142</td>\n",
       "      <td>0.001497</td>\n",
       "      <td>10</td>\n",
       "      <td>10</td>\n",
       "      <td>150</td>\n",
       "      <td>{'max_depth': 10, 'max_features': 10, 'n_estim...</td>\n",
       "      <td>0.635115</td>\n",
       "      <td>0.635184</td>\n",
       "      <td>0.635150</td>\n",
       "      <td>0.000034</td>\n",
       "      <td>2</td>\n",
       "      <td>0.646369</td>\n",
       "      <td>0.644523</td>\n",
       "      <td>0.645446</td>\n",
       "      <td>0.000923</td>\n",
       "    </tr>\n",
       "    <tr>\n",
       "      <th>7</th>\n",
       "      <td>337.649958</td>\n",
       "      <td>0.947438</td>\n",
       "      <td>7.745563</td>\n",
       "      <td>0.044368</td>\n",
       "      <td>10</td>\n",
       "      <td>10</td>\n",
       "      <td>250</td>\n",
       "      <td>{'max_depth': 10, 'max_features': 10, 'n_estim...</td>\n",
       "      <td>0.635229</td>\n",
       "      <td>0.635484</td>\n",
       "      <td>0.635357</td>\n",
       "      <td>0.000127</td>\n",
       "      <td>1</td>\n",
       "      <td>0.646559</td>\n",
       "      <td>0.644575</td>\n",
       "      <td>0.645567</td>\n",
       "      <td>0.000992</td>\n",
       "    </tr>\n",
       "  </tbody>\n",
       "</table>\n",
       "</div>"
      ],
      "text/plain": [
       "   mean_fit_time  std_fit_time  mean_score_time  std_score_time  \\\n",
       "0     170.695414      0.097238         6.964688        0.083274   \n",
       "1     283.484245      0.119676        11.584210        0.017453   \n",
       "2     261.615817      0.066321         6.752759        0.058842   \n",
       "3     427.517181      0.770919        12.415707        0.322627   \n",
       "4     251.685388      0.514112        10.448274        0.183006   \n",
       "5     361.690723      0.181511        11.813089        0.022942   \n",
       "6     332.639196      0.538545         7.166142        0.001497   \n",
       "7     337.649958      0.947438         7.745563        0.044368   \n",
       "\n",
       "  param_max_depth param_max_features param_n_estimators  \\\n",
       "0               6                  6                150   \n",
       "1               6                  6                250   \n",
       "2               6                 10                150   \n",
       "3               6                 10                250   \n",
       "4              10                  6                150   \n",
       "5              10                  6                250   \n",
       "6              10                 10                150   \n",
       "7              10                 10                250   \n",
       "\n",
       "                                              params  split0_test_score  \\\n",
       "0  {'max_depth': 6, 'max_features': 6, 'n_estimat...           0.626545   \n",
       "1  {'max_depth': 6, 'max_features': 6, 'n_estimat...           0.627323   \n",
       "2  {'max_depth': 6, 'max_features': 10, 'n_estima...           0.626907   \n",
       "3  {'max_depth': 6, 'max_features': 10, 'n_estima...           0.626896   \n",
       "4  {'max_depth': 10, 'max_features': 6, 'n_estima...           0.634227   \n",
       "5  {'max_depth': 10, 'max_features': 6, 'n_estima...           0.634416   \n",
       "6  {'max_depth': 10, 'max_features': 10, 'n_estim...           0.635115   \n",
       "7  {'max_depth': 10, 'max_features': 10, 'n_estim...           0.635229   \n",
       "\n",
       "   split1_test_score  mean_test_score  std_test_score  rank_test_score  \\\n",
       "0           0.627403         0.626974        0.000429                8   \n",
       "1           0.627024         0.627174        0.000150                5   \n",
       "2           0.627330         0.627118        0.000212                6   \n",
       "3           0.627320         0.627108        0.000212                7   \n",
       "4           0.635081         0.634654        0.000427                3   \n",
       "5           0.634847         0.634631        0.000215                4   \n",
       "6           0.635184         0.635150        0.000034                2   \n",
       "7           0.635484         0.635357        0.000127                1   \n",
       "\n",
       "   split0_train_score  split1_train_score  mean_train_score  std_train_score  \n",
       "0            0.628174            0.627685          0.627930         0.000245  \n",
       "1            0.628877            0.627475          0.628176         0.000701  \n",
       "2            0.628367            0.627158          0.627763         0.000605  \n",
       "3            0.628329            0.627110          0.627720         0.000610  \n",
       "4            0.643111            0.642818          0.642964         0.000146  \n",
       "5            0.643741            0.642411          0.643076         0.000665  \n",
       "6            0.646369            0.644523          0.645446         0.000923  \n",
       "7            0.646559            0.644575          0.645567         0.000992  "
      ]
     },
     "execution_count": 24,
     "metadata": {},
     "output_type": "execute_result"
    }
   ],
   "source": [
    "from sklearn.ensemble import RandomForestClassifier\n",
    "\n",
    "rf = RandomForestClassifier()\n",
    "param_grid = {'max_features': [6,10],'max_depth': [6,10],'n_estimators':[150,250]}\n",
    "\n",
    "rf_grid = GridSearchCV(rf, param_grid=param_grid, cv=2, return_train_score=True, n_jobs=-1)\n",
    "rf_grid.fit(X_trainval, y_trainval)\n",
    "predicted = rf_grid.predict(X_test)\n",
    "\n",
    "print(f\"best estimator and parameters: {rf_grid.best_estimator_}\")\n",
    "\n",
    "rf_results = pd.DataFrame(rf_grid.cv_results_)\n",
    "rf_results"
   ]
  },
  {
   "cell_type": "code",
   "execution_count": 25,
   "metadata": {},
   "outputs": [
    {
     "name": "stdout",
     "output_type": "stream",
     "text": [
      "accuracy on trainval set: 0.641560\n",
      "accuracy on test set: 0.635828\n"
     ]
    }
   ],
   "source": [
    "print(\"accuracy on trainval set: %f\" % rf_grid.score(X_trainval, y_trainval))\n",
    "print(\"accuracy on test set: %f\" % rf_grid.score(X_test, y_test))"
   ]
  },
  {
   "cell_type": "code",
   "execution_count": 26,
   "metadata": {},
   "outputs": [
    {
     "name": "stdout",
     "output_type": "stream",
     "text": [
      "[[45055 26931]\n",
      " [25929 47236]]\n"
     ]
    },
    {
     "name": "stderr",
     "output_type": "stream",
     "text": [
      "C:\\Users\\manje\\AppData\\Local\\Programs\\Python\\Python310\\lib\\site-packages\\sklearn\\utils\\deprecation.py:87: FutureWarning: Function plot_confusion_matrix is deprecated; Function `plot_confusion_matrix` is deprecated in 1.0 and will be removed in 1.2. Use one of the class methods: ConfusionMatrixDisplay.from_predictions or ConfusionMatrixDisplay.from_estimator.\n",
      "  warnings.warn(msg, category=FutureWarning)\n"
     ]
    },
    {
     "name": "stdout",
     "output_type": "stream",
     "text": [
      "accuracy: 0.6358275175506886\n",
      "precision: 0.6368870252268529\n",
      "recall: 0.6456092393904189\n",
      "f1 score:  0.6412184725653626\n"
     ]
    },
    {
     "data": {
      "image/png": "[encoded data removed]",
      "text/plain": [
       "<Figure size 360x360 with 2 Axes>"
      ]
     },
     "metadata": {
      "needs_background": "light"
     },
     "output_type": "display_data"
    }
   ],
   "source": [
    "test_calc = pd.concat([pd.DataFrame(y_test).reset_index(drop=True),pd.DataFrame(predicted).reset_index(drop=True)],axis=1)\n",
    "test_calc.rename(columns={0: 'predicted'}, inplace=True)\n",
    "\n",
    "test_calc['predicted'] = test_calc['predicted'].apply(lambda x: 1 if x > 0.5 else 0)\n",
    "df_table = confusion_matrix(test_calc['target'],test_calc['predicted'])\n",
    "print (df_table)\n",
    "\n",
    "#For graphically representing the confusion matrix\n",
    "fig, ax = plt.subplots(figsize=(5, 5))\n",
    "plot_confusion_matrix(rf_grid, X_test, y_test, cmap='Blues', ax=ax)\n",
    "\n",
    "a = (df_table[0,0] + df_table[1,1]) / (df_table[0,0] + df_table[0,1] + df_table[1,0] + df_table[1,1])\n",
    "p = df_table[1,1] / (df_table[1,1] + df_table[0,1])\n",
    "r = df_table[1,1] / (df_table[1,1] + df_table[1,0])\n",
    "f1 = (2*p*r)/(p+r)\n",
    "\n",
    "print('accuracy:', a)\n",
    "print ('precision:', p)\n",
    "print('recall:', r)\n",
    "print('f1 score: ', f1)"
   ]
  },
  {
   "cell_type": "markdown",
   "metadata": {},
   "source": [
    "# 2)    Train - 75% Test - 25%"
   ]
  },
  {
   "cell_type": "code",
   "execution_count": 34,
   "metadata": {},
   "outputs": [
    {
     "name": "stdout",
     "output_type": "stream",
     "text": [
      "(435450, 14) (435450,) (108863, 14) (108863,) (181438, 14) (181438,)\n"
     ]
    }
   ],
   "source": [
    "X_trainval, X_test, y_trainval, y_test = train_test_split(X, y, stratify=y, random_state=0, test_size=0.25)\n",
    "X_train, X_val, y_train, y_val = train_test_split(X_trainval, y_trainval, stratify=y_trainval, random_state=0, test_size=0.2)\n",
    "\n",
    "print(X_train.shape, y_train.shape, X_val.shape, y_val.shape, X_test.shape, y_test.shape)"
   ]
  },
  {
   "cell_type": "markdown",
   "metadata": {},
   "source": [
    "# XGBoost"
   ]
  },
  {
   "cell_type": "code",
   "execution_count": 35,
   "metadata": {},
   "outputs": [
    {
     "name": "stdout",
     "output_type": "stream",
     "text": [
      "best estimator and parameters: XGBClassifier(base_score=0.5, booster='gbtree', callbacks=None,\n",
      "              colsample_bylevel=1, colsample_bynode=1, colsample_bytree=1,\n",
      "              early_stopping_rounds=None, enable_categorical=False,\n",
      "              eval_metric=None, gamma=0, gpu_id=-1, grow_policy='depthwise',\n",
      "              importance_type=None, interaction_constraints='',\n",
      "              learning_rate=0.3, max_bin=256, max_cat_to_onehot=4,\n",
      "              max_delta_step=0, max_depth=6, max_leaves=0, min_child_weight=1,\n",
      "              missing=nan, monotone_constraints='()', n_estimators=500,\n",
      "              n_jobs=0, num_parallel_tree=1, predictor='auto', random_state=0,\n",
      "              reg_alpha=0, reg_lambda=1, ...)\n"
     ]
    }
   ],
   "source": [
    "import xgboost \n",
    "from xgboost import XGBClassifier\n",
    "xgb = XGBClassifier(use_label_encoder=False)\n",
    "\n",
    "param_grid = {'max_depth':[6,7],'learning_rate':[0.03, 0.3], 'n_estimators':[250,500]}\n",
    "xgb_grid = GridSearchCV(xgb,param_grid=param_grid, cv=2, return_train_score=True, n_jobs=-1)\n",
    "xgb_grid.fit(X_trainval, y_trainval)\n",
    "predicted = xgb_grid.predict(X_test)\n",
    "\n",
    "print(f\"best estimator and parameters: {xgb_grid.best_estimator_}\")"
   ]
  },
  {
   "cell_type": "code",
   "execution_count": 36,
   "metadata": {},
   "outputs": [
    {
     "name": "stdout",
     "output_type": "stream",
     "text": [
      "accuracy on trainval set: 0.708991\n",
      "accuracy on test set: 0.658958\n"
     ]
    }
   ],
   "source": [
    "print(\"accuracy on trainval set: %f\" % xgb_grid.score(X_trainval, y_trainval))\n",
    "print(\"accuracy on test set: %f\" % xgb_grid.score(X_test, y_test))"
   ]
  },
  {
   "cell_type": "code",
   "execution_count": 37,
   "metadata": {},
   "outputs": [
    {
     "name": "stdout",
     "output_type": "stream",
     "text": [
      "[[56022 33960]\n",
      " [27918 63538]]\n"
     ]
    },
    {
     "name": "stderr",
     "output_type": "stream",
     "text": [
      "C:\\Users\\manje\\AppData\\Local\\Programs\\Python\\Python310\\lib\\site-packages\\sklearn\\utils\\deprecation.py:87: FutureWarning: Function plot_confusion_matrix is deprecated; Function `plot_confusion_matrix` is deprecated in 1.0 and will be removed in 1.2. Use one of the class methods: ConfusionMatrixDisplay.from_predictions or ConfusionMatrixDisplay.from_estimator.\n",
      "  warnings.warn(msg, category=FutureWarning)\n"
     ]
    },
    {
     "name": "stdout",
     "output_type": "stream",
     "text": [
      "accuracy: 0.6589578809290226\n",
      "precision: 0.6516851627725697\n",
      "recall: 0.6947384534639608\n",
      "f1 score:  0.6725234713210624\n"
     ]
    },
    {
     "data": {
      "image/png": "[encoded data removed]",
      "text/plain": [
       "<Figure size 360x360 with 2 Axes>"
      ]
     },
     "metadata": {
      "needs_background": "light"
     },
     "output_type": "display_data"
    }
   ],
   "source": [
    "test_calc = pd.concat([pd.DataFrame(y_test).reset_index(drop=True),pd.DataFrame(predicted).reset_index(drop=True)],axis=1)\n",
    "test_calc.rename(columns={0: 'predicted'}, inplace=True)\n",
    "\n",
    "test_calc['predicted'] = test_calc['predicted'].apply(lambda x: 1 if x > 0.5 else 0)\n",
    "df_table = confusion_matrix(test_calc['target'],test_calc['predicted'])\n",
    "print (df_table)\n",
    "\n",
    "#For graphically representing the confusion matrix\n",
    "fig, ax = plt.subplots(figsize=(5, 5))\n",
    "plot_confusion_matrix(xgb_grid, X_test, y_test, cmap='Blues', ax=ax)\n",
    "\n",
    "a = (df_table[0,0] + df_table[1,1]) / (df_table[0,0] + df_table[0,1] + df_table[1,0] + df_table[1,1])\n",
    "p = df_table[1,1] / (df_table[1,1] + df_table[0,1])\n",
    "r = df_table[1,1] / (df_table[1,1] + df_table[1,0])\n",
    "f1 = (2*p*r)/(p+r)\n",
    "\n",
    "print('accuracy:', a)\n",
    "print ('precision:', p)\n",
    "print('recall:', r)\n",
    "print('f1 score: ', f1)"
   ]
  }
 ],
 "metadata": {
  "interpreter": {
   "hash": "6d07e63a6f38a695eb2ac4da2941e6816c3440ff1cd97edcd5104fee4afc420f"
  },
  "kernelspec": {
   "display_name": "Python 3.9.7 ('base')",
   "language": "python",
   "name": "python3"
  },
  "language_info": {
   "codemirror_mode": {
    "name": "ipython",
    "version": 3
   },
   "file_extension": ".py",
   "mimetype": "text/x-python",
   "name": "python",
   "nbconvert_exporter": "python",
   "pygments_lexer": "ipython3",
   "version": "3.10.2"
  },
  "orig_nbformat": 4
 },
 "nbformat": 4,
 "nbformat_minor": 2
}
